{
 "cells": [
  {
   "cell_type": "markdown",
   "metadata": {},
   "source": [
    "## `Step1 ---> Data Cleaning`"
   ]
  },
  {
   "cell_type": "markdown",
   "metadata": {},
   "source": [
    "##### `Import Libraries`"
   ]
  },
  {
   "cell_type": "code",
   "execution_count": 80,
   "metadata": {},
   "outputs": [],
   "source": [
    "import pandas as pd"
   ]
  },
  {
   "cell_type": "markdown",
   "metadata": {},
   "source": [
    "#### `Read Data and convert it to CSV file`"
   ]
  },
  {
   "cell_type": "code",
   "execution_count": 81,
   "metadata": {},
   "outputs": [],
   "source": [
    "# Load Data\n",
    "df = pd.read_json('News_Category_Dataset_v3.json', lines=True)  # Use lines=True for line-delimited JSON\n",
    "\n",
    "# Save to df\n",
    "df.to_csv('category.csv', index=False)\n"
   ]
  },
  {
   "cell_type": "markdown",
   "metadata": {},
   "source": [
    "#### `Data Cleaning and preprocessing`"
   ]
  },
  {
   "cell_type": "code",
   "execution_count": 82,
   "metadata": {},
   "outputs": [
    {
     "data": {
      "text/html": [
       "<div>\n",
       "<style scoped>\n",
       "    .dataframe tbody tr th:only-of-type {\n",
       "        vertical-align: middle;\n",
       "    }\n",
       "\n",
       "    .dataframe tbody tr th {\n",
       "        vertical-align: top;\n",
       "    }\n",
       "\n",
       "    .dataframe thead th {\n",
       "        text-align: right;\n",
       "    }\n",
       "</style>\n",
       "<table border=\"1\" class=\"dataframe\">\n",
       "  <thead>\n",
       "    <tr style=\"text-align: right;\">\n",
       "      <th></th>\n",
       "      <th>link</th>\n",
       "      <th>headline</th>\n",
       "      <th>category</th>\n",
       "      <th>short_description</th>\n",
       "      <th>authors</th>\n",
       "      <th>date</th>\n",
       "    </tr>\n",
       "  </thead>\n",
       "  <tbody>\n",
       "    <tr>\n",
       "      <th>0</th>\n",
       "      <td>https://www.huffpost.com/entry/covid-boosters-...</td>\n",
       "      <td>Over 4 Million Americans Roll Up Sleeves For O...</td>\n",
       "      <td>U.S. NEWS</td>\n",
       "      <td>Health experts said it is too early to predict...</td>\n",
       "      <td>Carla K. Johnson, AP</td>\n",
       "      <td>2022-09-23</td>\n",
       "    </tr>\n",
       "    <tr>\n",
       "      <th>1</th>\n",
       "      <td>https://www.huffpost.com/entry/american-airlin...</td>\n",
       "      <td>American Airlines Flyer Charged, Banned For Li...</td>\n",
       "      <td>U.S. NEWS</td>\n",
       "      <td>He was subdued by passengers and crew when he ...</td>\n",
       "      <td>Mary Papenfuss</td>\n",
       "      <td>2022-09-23</td>\n",
       "    </tr>\n",
       "    <tr>\n",
       "      <th>2</th>\n",
       "      <td>https://www.huffpost.com/entry/funniest-tweets...</td>\n",
       "      <td>23 Of The Funniest Tweets About Cats And Dogs ...</td>\n",
       "      <td>COMEDY</td>\n",
       "      <td>\"Until you have a dog you don't understand wha...</td>\n",
       "      <td>Elyse Wanshel</td>\n",
       "      <td>2022-09-23</td>\n",
       "    </tr>\n",
       "    <tr>\n",
       "      <th>3</th>\n",
       "      <td>https://www.huffpost.com/entry/funniest-parent...</td>\n",
       "      <td>The Funniest Tweets From Parents This Week (Se...</td>\n",
       "      <td>PARENTING</td>\n",
       "      <td>\"Accidentally put grown-up toothpaste on my to...</td>\n",
       "      <td>Caroline Bologna</td>\n",
       "      <td>2022-09-23</td>\n",
       "    </tr>\n",
       "    <tr>\n",
       "      <th>4</th>\n",
       "      <td>https://www.huffpost.com/entry/amy-cooper-lose...</td>\n",
       "      <td>Woman Who Called Cops On Black Bird-Watcher Lo...</td>\n",
       "      <td>U.S. NEWS</td>\n",
       "      <td>Amy Cooper accused investment firm Franklin Te...</td>\n",
       "      <td>Nina Golgowski</td>\n",
       "      <td>2022-09-22</td>\n",
       "    </tr>\n",
       "  </tbody>\n",
       "</table>\n",
       "</div>"
      ],
      "text/plain": [
       "                                                link  \\\n",
       "0  https://www.huffpost.com/entry/covid-boosters-...   \n",
       "1  https://www.huffpost.com/entry/american-airlin...   \n",
       "2  https://www.huffpost.com/entry/funniest-tweets...   \n",
       "3  https://www.huffpost.com/entry/funniest-parent...   \n",
       "4  https://www.huffpost.com/entry/amy-cooper-lose...   \n",
       "\n",
       "                                            headline   category  \\\n",
       "0  Over 4 Million Americans Roll Up Sleeves For O...  U.S. NEWS   \n",
       "1  American Airlines Flyer Charged, Banned For Li...  U.S. NEWS   \n",
       "2  23 Of The Funniest Tweets About Cats And Dogs ...     COMEDY   \n",
       "3  The Funniest Tweets From Parents This Week (Se...  PARENTING   \n",
       "4  Woman Who Called Cops On Black Bird-Watcher Lo...  U.S. NEWS   \n",
       "\n",
       "                                   short_description               authors  \\\n",
       "0  Health experts said it is too early to predict...  Carla K. Johnson, AP   \n",
       "1  He was subdued by passengers and crew when he ...        Mary Papenfuss   \n",
       "2  \"Until you have a dog you don't understand wha...         Elyse Wanshel   \n",
       "3  \"Accidentally put grown-up toothpaste on my to...      Caroline Bologna   \n",
       "4  Amy Cooper accused investment firm Franklin Te...        Nina Golgowski   \n",
       "\n",
       "         date  \n",
       "0  2022-09-23  \n",
       "1  2022-09-23  \n",
       "2  2022-09-23  \n",
       "3  2022-09-23  \n",
       "4  2022-09-22  "
      ]
     },
     "execution_count": 82,
     "metadata": {},
     "output_type": "execute_result"
    }
   ],
   "source": [
    "df=pd.read_csv('category.csv')\n",
    "df.head()"
   ]
  },
  {
   "cell_type": "code",
   "execution_count": 83,
   "metadata": {},
   "outputs": [],
   "source": [
    "## drop cols \n",
    "df.drop(columns=['link','short_description','authors','date'],axis=1,inplace=True)"
   ]
  },
  {
   "cell_type": "code",
   "execution_count": 84,
   "metadata": {},
   "outputs": [
    {
     "data": {
      "text/html": [
       "<div>\n",
       "<style scoped>\n",
       "    .dataframe tbody tr th:only-of-type {\n",
       "        vertical-align: middle;\n",
       "    }\n",
       "\n",
       "    .dataframe tbody tr th {\n",
       "        vertical-align: top;\n",
       "    }\n",
       "\n",
       "    .dataframe thead th {\n",
       "        text-align: right;\n",
       "    }\n",
       "</style>\n",
       "<table border=\"1\" class=\"dataframe\">\n",
       "  <thead>\n",
       "    <tr style=\"text-align: right;\">\n",
       "      <th></th>\n",
       "      <th>headline</th>\n",
       "      <th>category</th>\n",
       "    </tr>\n",
       "  </thead>\n",
       "  <tbody>\n",
       "    <tr>\n",
       "      <th>0</th>\n",
       "      <td>Over 4 Million Americans Roll Up Sleeves For O...</td>\n",
       "      <td>U.S. NEWS</td>\n",
       "    </tr>\n",
       "    <tr>\n",
       "      <th>1</th>\n",
       "      <td>American Airlines Flyer Charged, Banned For Li...</td>\n",
       "      <td>U.S. NEWS</td>\n",
       "    </tr>\n",
       "    <tr>\n",
       "      <th>2</th>\n",
       "      <td>23 Of The Funniest Tweets About Cats And Dogs ...</td>\n",
       "      <td>COMEDY</td>\n",
       "    </tr>\n",
       "    <tr>\n",
       "      <th>3</th>\n",
       "      <td>The Funniest Tweets From Parents This Week (Se...</td>\n",
       "      <td>PARENTING</td>\n",
       "    </tr>\n",
       "    <tr>\n",
       "      <th>4</th>\n",
       "      <td>Woman Who Called Cops On Black Bird-Watcher Lo...</td>\n",
       "      <td>U.S. NEWS</td>\n",
       "    </tr>\n",
       "  </tbody>\n",
       "</table>\n",
       "</div>"
      ],
      "text/plain": [
       "                                            headline   category\n",
       "0  Over 4 Million Americans Roll Up Sleeves For O...  U.S. NEWS\n",
       "1  American Airlines Flyer Charged, Banned For Li...  U.S. NEWS\n",
       "2  23 Of The Funniest Tweets About Cats And Dogs ...     COMEDY\n",
       "3  The Funniest Tweets From Parents This Week (Se...  PARENTING\n",
       "4  Woman Who Called Cops On Black Bird-Watcher Lo...  U.S. NEWS"
      ]
     },
     "execution_count": 84,
     "metadata": {},
     "output_type": "execute_result"
    }
   ],
   "source": [
    "df.head()"
   ]
  },
  {
   "cell_type": "code",
   "execution_count": 85,
   "metadata": {},
   "outputs": [
    {
     "name": "stdout",
     "output_type": "stream",
     "text": [
      "<class 'pandas.core.frame.DataFrame'>\n",
      "RangeIndex: 209527 entries, 0 to 209526\n",
      "Data columns (total 2 columns):\n",
      " #   Column    Non-Null Count   Dtype \n",
      "---  ------    --------------   ----- \n",
      " 0   headline  209521 non-null  object\n",
      " 1   category  209527 non-null  object\n",
      "dtypes: object(2)\n",
      "memory usage: 3.2+ MB\n"
     ]
    }
   ],
   "source": [
    "df.info()"
   ]
  },
  {
   "cell_type": "code",
   "execution_count": 86,
   "metadata": {},
   "outputs": [
    {
     "data": {
      "text/plain": [
       "(209527, 2)"
      ]
     },
     "execution_count": 86,
     "metadata": {},
     "output_type": "execute_result"
    }
   ],
   "source": [
    "df.shape"
   ]
  },
  {
   "cell_type": "code",
   "execution_count": 87,
   "metadata": {},
   "outputs": [
    {
     "data": {
      "text/plain": [
       "headline    6\n",
       "category    0\n",
       "dtype: int64"
      ]
     },
     "execution_count": 87,
     "metadata": {},
     "output_type": "execute_result"
    }
   ],
   "source": [
    "## Check nulls \n",
    "\n",
    "df.isna().sum()"
   ]
  },
  {
   "cell_type": "code",
   "execution_count": 88,
   "metadata": {},
   "outputs": [],
   "source": [
    "## Drop nulls\n",
    "df.dropna(inplace=True)\n"
   ]
  },
  {
   "cell_type": "code",
   "execution_count": 89,
   "metadata": {},
   "outputs": [
    {
     "data": {
      "text/plain": [
       "headline    0\n",
       "category    0\n",
       "dtype: int64"
      ]
     },
     "execution_count": 89,
     "metadata": {},
     "output_type": "execute_result"
    }
   ],
   "source": [
    "## Check nulls after drop it\n",
    "df.isna().sum()"
   ]
  },
  {
   "cell_type": "code",
   "execution_count": 90,
   "metadata": {},
   "outputs": [
    {
     "data": {
      "text/plain": [
       "np.int64(1419)"
      ]
     },
     "execution_count": 90,
     "metadata": {},
     "output_type": "execute_result"
    }
   ],
   "source": [
    "## Check Duplicates\n",
    "df.duplicated().sum()"
   ]
  },
  {
   "cell_type": "code",
   "execution_count": 91,
   "metadata": {},
   "outputs": [],
   "source": [
    "## Drop Duplicates\n",
    "df.drop_duplicates(inplace=True)"
   ]
  },
  {
   "cell_type": "code",
   "execution_count": 92,
   "metadata": {},
   "outputs": [
    {
     "data": {
      "text/plain": [
       "np.int64(0)"
      ]
     },
     "execution_count": 92,
     "metadata": {},
     "output_type": "execute_result"
    }
   ],
   "source": [
    "## Check after drop\n",
    "df.duplicated().sum()"
   ]
  },
  {
   "cell_type": "code",
   "execution_count": 93,
   "metadata": {},
   "outputs": [
    {
     "data": {
      "text/html": [
       "<div>\n",
       "<style scoped>\n",
       "    .dataframe tbody tr th:only-of-type {\n",
       "        vertical-align: middle;\n",
       "    }\n",
       "\n",
       "    .dataframe tbody tr th {\n",
       "        vertical-align: top;\n",
       "    }\n",
       "\n",
       "    .dataframe thead th {\n",
       "        text-align: right;\n",
       "    }\n",
       "</style>\n",
       "<table border=\"1\" class=\"dataframe\">\n",
       "  <thead>\n",
       "    <tr style=\"text-align: right;\">\n",
       "      <th></th>\n",
       "      <th>headline</th>\n",
       "      <th>category</th>\n",
       "    </tr>\n",
       "  </thead>\n",
       "  <tbody>\n",
       "    <tr>\n",
       "      <th>7645</th>\n",
       "      <td>Here Are The Movies Coming To Netflix This Week</td>\n",
       "      <td>HOME &amp; LIVING</td>\n",
       "    </tr>\n",
       "    <tr>\n",
       "      <th>8457</th>\n",
       "      <td>Here Are The Movies Coming To Netflix This Week</td>\n",
       "      <td>ENTERTAINMENT</td>\n",
       "    </tr>\n",
       "    <tr>\n",
       "      <th>18333</th>\n",
       "      <td>Gingerbread Dessert Recipes For The Best Holid...</td>\n",
       "      <td>TASTE</td>\n",
       "    </tr>\n",
       "    <tr>\n",
       "      <th>32378</th>\n",
       "      <td>Why We March</td>\n",
       "      <td>BLACK VOICES</td>\n",
       "    </tr>\n",
       "    <tr>\n",
       "      <th>33649</th>\n",
       "      <td>How Successful People Stay Calm</td>\n",
       "      <td>BUSINESS</td>\n",
       "    </tr>\n",
       "    <tr>\n",
       "      <th>...</th>\n",
       "      <td>...</td>\n",
       "      <td>...</td>\n",
       "    </tr>\n",
       "    <tr>\n",
       "      <th>207717</th>\n",
       "      <td>The Widower</td>\n",
       "      <td>DIVORCE</td>\n",
       "    </tr>\n",
       "    <tr>\n",
       "      <th>208182</th>\n",
       "      <td>Kelly Rowland's Birthday: Singer Turns 31, Sty...</td>\n",
       "      <td>STYLE &amp; BEAUTY</td>\n",
       "    </tr>\n",
       "    <tr>\n",
       "      <th>208217</th>\n",
       "      <td>Kelly Rowland's Birthday: Singer Turns 31, Sty...</td>\n",
       "      <td>BLACK VOICES</td>\n",
       "    </tr>\n",
       "    <tr>\n",
       "      <th>208763</th>\n",
       "      <td>NFL Homes: Amani Toomer, Muhammed Wilkerson, V...</td>\n",
       "      <td>STYLE &amp; BEAUTY</td>\n",
       "    </tr>\n",
       "    <tr>\n",
       "      <th>208945</th>\n",
       "      <td>NFL Homes: Amani Toomer, Muhammed Wilkerson, V...</td>\n",
       "      <td>HOME &amp; LIVING</td>\n",
       "    </tr>\n",
       "  </tbody>\n",
       "</table>\n",
       "<p>209 rows × 2 columns</p>\n",
       "</div>"
      ],
      "text/plain": [
       "                                                 headline        category\n",
       "7645      Here Are The Movies Coming To Netflix This Week   HOME & LIVING\n",
       "8457      Here Are The Movies Coming To Netflix This Week   ENTERTAINMENT\n",
       "18333   Gingerbread Dessert Recipes For The Best Holid...           TASTE\n",
       "32378                                        Why We March    BLACK VOICES\n",
       "33649                     How Successful People Stay Calm        BUSINESS\n",
       "...                                                   ...             ...\n",
       "207717                                        The Widower         DIVORCE\n",
       "208182  Kelly Rowland's Birthday: Singer Turns 31, Sty...  STYLE & BEAUTY\n",
       "208217  Kelly Rowland's Birthday: Singer Turns 31, Sty...    BLACK VOICES\n",
       "208763  NFL Homes: Amani Toomer, Muhammed Wilkerson, V...  STYLE & BEAUTY\n",
       "208945  NFL Homes: Amani Toomer, Muhammed Wilkerson, V...   HOME & LIVING\n",
       "\n",
       "[209 rows x 2 columns]"
      ]
     },
     "execution_count": 93,
     "metadata": {},
     "output_type": "execute_result"
    }
   ],
   "source": [
    "# Identify duplicates in headline col \n",
    "\n",
    "duplicates=df[df['headline'].duplicated(keep=False)]\n",
    "duplicates\n"
   ]
  },
  {
   "cell_type": "code",
   "execution_count": 94,
   "metadata": {},
   "outputs": [],
   "source": [
    "# Drop all rows with duplicates\n",
    "df = df[~df['headline'].duplicated(keep=False)]"
   ]
  },
  {
   "cell_type": "code",
   "execution_count": 95,
   "metadata": {},
   "outputs": [
    {
     "data": {
      "text/html": [
       "<div>\n",
       "<style scoped>\n",
       "    .dataframe tbody tr th:only-of-type {\n",
       "        vertical-align: middle;\n",
       "    }\n",
       "\n",
       "    .dataframe tbody tr th {\n",
       "        vertical-align: top;\n",
       "    }\n",
       "\n",
       "    .dataframe thead th {\n",
       "        text-align: right;\n",
       "    }\n",
       "</style>\n",
       "<table border=\"1\" class=\"dataframe\">\n",
       "  <thead>\n",
       "    <tr style=\"text-align: right;\">\n",
       "      <th></th>\n",
       "      <th>headline</th>\n",
       "      <th>category</th>\n",
       "    </tr>\n",
       "  </thead>\n",
       "  <tbody>\n",
       "  </tbody>\n",
       "</table>\n",
       "</div>"
      ],
      "text/plain": [
       "Empty DataFrame\n",
       "Columns: [headline, category]\n",
       "Index: []"
      ]
     },
     "execution_count": 95,
     "metadata": {},
     "output_type": "execute_result"
    }
   ],
   "source": [
    "## Check after drop it \n",
    "df[df['headline'].duplicated(keep=False)]"
   ]
  },
  {
   "cell_type": "code",
   "execution_count": 96,
   "metadata": {},
   "outputs": [
    {
     "data": {
      "text/plain": [
       "array(['U.S. NEWS', 'COMEDY', 'PARENTING', 'WORLD NEWS', 'CULTURE & ARTS',\n",
       "       'TECH', 'SPORTS', 'ENTERTAINMENT', 'POLITICS', 'WEIRD NEWS',\n",
       "       'ENVIRONMENT', 'EDUCATION', 'CRIME', 'SCIENCE', 'WELLNESS',\n",
       "       'BUSINESS', 'STYLE & BEAUTY', 'FOOD & DRINK', 'MEDIA',\n",
       "       'QUEER VOICES', 'HOME & LIVING', 'WOMEN', 'BLACK VOICES', 'TRAVEL',\n",
       "       'MONEY', 'RELIGION', 'LATINO VOICES', 'IMPACT', 'WEDDINGS',\n",
       "       'COLLEGE', 'PARENTS', 'ARTS & CULTURE', 'STYLE', 'GREEN', 'TASTE',\n",
       "       'HEALTHY LIVING', 'THE WORLDPOST', 'GOOD NEWS', 'WORLDPOST',\n",
       "       'FIFTY', 'ARTS', 'DIVORCE'], dtype=object)"
      ]
     },
     "execution_count": 96,
     "metadata": {},
     "output_type": "execute_result"
    }
   ],
   "source": [
    "df['category'].unique()"
   ]
  },
  {
   "cell_type": "code",
   "execution_count": 97,
   "metadata": {},
   "outputs": [],
   "source": [
    "categories_to_keep = [\n",
    "    \"POLITICS\", \"WELLNESS\", \"ENTERTAINMENT\", \"TRAVEL\",\n",
    "    \"STYLE & BEAUTY\", \"QUEER VOICES\", \"FOOD & DRINK\",\n",
    "    \"BUSINESS\", \"SPORTS\"\n",
    "]\n",
    "\n",
    "\n",
    "df['category'] = df['category'].apply(lambda x: x if x in categories_to_keep else \"OTHER\")"
   ]
  },
  {
   "cell_type": "code",
   "execution_count": 98,
   "metadata": {},
   "outputs": [
    {
     "data": {
      "text/plain": [
       "category\n",
       "OTHER             94350\n",
       "POLITICS          35467\n",
       "WELLNESS          17862\n",
       "ENTERTAINMENT     17317\n",
       "TRAVEL             9871\n",
       "STYLE & BEAUTY     9313\n",
       "QUEER VOICES       6335\n",
       "FOOD & DRINK       6330\n",
       "BUSINESS           5974\n",
       "SPORTS             5074\n",
       "Name: count, dtype: int64"
      ]
     },
     "execution_count": 98,
     "metadata": {},
     "output_type": "execute_result"
    }
   ],
   "source": [
    "df['category'].value_counts()"
   ]
  },
  {
   "cell_type": "code",
   "execution_count": 99,
   "metadata": {},
   "outputs": [
    {
     "data": {
      "text/html": [
       "<div>\n",
       "<style scoped>\n",
       "    .dataframe tbody tr th:only-of-type {\n",
       "        vertical-align: middle;\n",
       "    }\n",
       "\n",
       "    .dataframe tbody tr th {\n",
       "        vertical-align: top;\n",
       "    }\n",
       "\n",
       "    .dataframe thead th {\n",
       "        text-align: right;\n",
       "    }\n",
       "</style>\n",
       "<table border=\"1\" class=\"dataframe\">\n",
       "  <thead>\n",
       "    <tr style=\"text-align: right;\">\n",
       "      <th></th>\n",
       "      <th>headline</th>\n",
       "      <th>category</th>\n",
       "    </tr>\n",
       "  </thead>\n",
       "  <tbody>\n",
       "    <tr>\n",
       "      <th>0</th>\n",
       "      <td>Over 4 Million Americans Roll Up Sleeves For O...</td>\n",
       "      <td>OTHER</td>\n",
       "    </tr>\n",
       "    <tr>\n",
       "      <th>1</th>\n",
       "      <td>American Airlines Flyer Charged, Banned For Li...</td>\n",
       "      <td>OTHER</td>\n",
       "    </tr>\n",
       "    <tr>\n",
       "      <th>2</th>\n",
       "      <td>23 Of The Funniest Tweets About Cats And Dogs ...</td>\n",
       "      <td>OTHER</td>\n",
       "    </tr>\n",
       "    <tr>\n",
       "      <th>3</th>\n",
       "      <td>The Funniest Tweets From Parents This Week (Se...</td>\n",
       "      <td>OTHER</td>\n",
       "    </tr>\n",
       "    <tr>\n",
       "      <th>4</th>\n",
       "      <td>Woman Who Called Cops On Black Bird-Watcher Lo...</td>\n",
       "      <td>OTHER</td>\n",
       "    </tr>\n",
       "    <tr>\n",
       "      <th>5</th>\n",
       "      <td>Cleaner Was Dead In Belk Bathroom For 4 Days B...</td>\n",
       "      <td>OTHER</td>\n",
       "    </tr>\n",
       "    <tr>\n",
       "      <th>6</th>\n",
       "      <td>Reporter Gets Adorable Surprise From Her Boyfr...</td>\n",
       "      <td>OTHER</td>\n",
       "    </tr>\n",
       "    <tr>\n",
       "      <th>7</th>\n",
       "      <td>Puerto Ricans Desperate For Water After Hurric...</td>\n",
       "      <td>OTHER</td>\n",
       "    </tr>\n",
       "    <tr>\n",
       "      <th>8</th>\n",
       "      <td>How A New Documentary Captures The Complexity ...</td>\n",
       "      <td>OTHER</td>\n",
       "    </tr>\n",
       "    <tr>\n",
       "      <th>9</th>\n",
       "      <td>Biden At UN To Call Russian War An Affront To ...</td>\n",
       "      <td>OTHER</td>\n",
       "    </tr>\n",
       "  </tbody>\n",
       "</table>\n",
       "</div>"
      ],
      "text/plain": [
       "                                            headline category\n",
       "0  Over 4 Million Americans Roll Up Sleeves For O...    OTHER\n",
       "1  American Airlines Flyer Charged, Banned For Li...    OTHER\n",
       "2  23 Of The Funniest Tweets About Cats And Dogs ...    OTHER\n",
       "3  The Funniest Tweets From Parents This Week (Se...    OTHER\n",
       "4  Woman Who Called Cops On Black Bird-Watcher Lo...    OTHER\n",
       "5  Cleaner Was Dead In Belk Bathroom For 4 Days B...    OTHER\n",
       "6  Reporter Gets Adorable Surprise From Her Boyfr...    OTHER\n",
       "7  Puerto Ricans Desperate For Water After Hurric...    OTHER\n",
       "8  How A New Documentary Captures The Complexity ...    OTHER\n",
       "9  Biden At UN To Call Russian War An Affront To ...    OTHER"
      ]
     },
     "execution_count": 99,
     "metadata": {},
     "output_type": "execute_result"
    }
   ],
   "source": [
    "df.head(10)"
   ]
  },
  {
   "cell_type": "code",
   "execution_count": 100,
   "metadata": {},
   "outputs": [
    {
     "data": {
      "text/html": [
       "<div>\n",
       "<style scoped>\n",
       "    .dataframe tbody tr th:only-of-type {\n",
       "        vertical-align: middle;\n",
       "    }\n",
       "\n",
       "    .dataframe tbody tr th {\n",
       "        vertical-align: top;\n",
       "    }\n",
       "\n",
       "    .dataframe thead th {\n",
       "        text-align: right;\n",
       "    }\n",
       "</style>\n",
       "<table border=\"1\" class=\"dataframe\">\n",
       "  <thead>\n",
       "    <tr style=\"text-align: right;\">\n",
       "      <th></th>\n",
       "      <th>headline</th>\n",
       "      <th>category</th>\n",
       "    </tr>\n",
       "  </thead>\n",
       "  <tbody>\n",
       "    <tr>\n",
       "      <th>209516</th>\n",
       "      <td>Allard Van Hoorn's 'Urban Songline' Explores R...</td>\n",
       "      <td>OTHER</td>\n",
       "    </tr>\n",
       "    <tr>\n",
       "      <th>209517</th>\n",
       "      <td>Good Games -- Is It possible?</td>\n",
       "      <td>OTHER</td>\n",
       "    </tr>\n",
       "    <tr>\n",
       "      <th>209518</th>\n",
       "      <td>Google+ Now Open for Teens With Some Safeguards</td>\n",
       "      <td>OTHER</td>\n",
       "    </tr>\n",
       "    <tr>\n",
       "      <th>209519</th>\n",
       "      <td>Web Wars</td>\n",
       "      <td>OTHER</td>\n",
       "    </tr>\n",
       "    <tr>\n",
       "      <th>209520</th>\n",
       "      <td>First White House Chief Technology Officer, An...</td>\n",
       "      <td>OTHER</td>\n",
       "    </tr>\n",
       "    <tr>\n",
       "      <th>209522</th>\n",
       "      <td>RIM CEO Thorsten Heins' 'Significant' Plans Fo...</td>\n",
       "      <td>OTHER</td>\n",
       "    </tr>\n",
       "    <tr>\n",
       "      <th>209523</th>\n",
       "      <td>Maria Sharapova Stunned By Victoria Azarenka I...</td>\n",
       "      <td>SPORTS</td>\n",
       "    </tr>\n",
       "    <tr>\n",
       "      <th>209524</th>\n",
       "      <td>Giants Over Patriots, Jets Over Colts Among  M...</td>\n",
       "      <td>SPORTS</td>\n",
       "    </tr>\n",
       "    <tr>\n",
       "      <th>209525</th>\n",
       "      <td>Aldon Smith Arrested: 49ers Linebacker Busted ...</td>\n",
       "      <td>SPORTS</td>\n",
       "    </tr>\n",
       "    <tr>\n",
       "      <th>209526</th>\n",
       "      <td>Dwight Howard Rips Teammates After Magic Loss ...</td>\n",
       "      <td>SPORTS</td>\n",
       "    </tr>\n",
       "  </tbody>\n",
       "</table>\n",
       "</div>"
      ],
      "text/plain": [
       "                                                 headline category\n",
       "209516  Allard Van Hoorn's 'Urban Songline' Explores R...    OTHER\n",
       "209517                      Good Games -- Is It possible?    OTHER\n",
       "209518    Google+ Now Open for Teens With Some Safeguards    OTHER\n",
       "209519                                           Web Wars    OTHER\n",
       "209520  First White House Chief Technology Officer, An...    OTHER\n",
       "209522  RIM CEO Thorsten Heins' 'Significant' Plans Fo...    OTHER\n",
       "209523  Maria Sharapova Stunned By Victoria Azarenka I...   SPORTS\n",
       "209524  Giants Over Patriots, Jets Over Colts Among  M...   SPORTS\n",
       "209525  Aldon Smith Arrested: 49ers Linebacker Busted ...   SPORTS\n",
       "209526  Dwight Howard Rips Teammates After Magic Loss ...   SPORTS"
      ]
     },
     "execution_count": 100,
     "metadata": {},
     "output_type": "execute_result"
    }
   ],
   "source": [
    "df.tail(10)"
   ]
  },
  {
   "cell_type": "markdown",
   "metadata": {},
   "source": [
    "##### `Cleaning the Text`"
   ]
  },
  {
   "cell_type": "code",
   "execution_count": 101,
   "metadata": {},
   "outputs": [],
   "source": [
    "\n",
    "import re\n",
    "\n",
    "def clean_text(text):\n",
    "    text = re.sub(r'\\b\\w*\\d\\w*\\b', '', text)  # Remove words with numbers\n",
    "    text = re.sub(r'(?:@\\S+|#\\S+|http\\S+)', '', text)  # Remove URLs, hashtags, mentions\n",
    "    text = re.sub(r'[^\\w\\s]', '', text)  # Remove special characters\n",
    "    text = re.sub(r'\\s+', ' ', text).strip()  # Collapse extra whitespaces\n",
    "    text = re.sub(r'\\[[^()]*\\]', '', text)\n",
    "    text = re.sub(r'\\d+', '', text)# Remove digits\n",
    "    return text"
   ]
  },
  {
   "cell_type": "code",
   "execution_count": 102,
   "metadata": {},
   "outputs": [
    {
     "data": {
      "text/plain": [
       "headline\n",
       "Over 4 Million Americans Roll Up Sleeves For Omicron-Targeted COVID Boosters                             1\n",
       "American Airlines Flyer Charged, Banned For Life After Punching Flight Attendant On Video                1\n",
       "23 Of The Funniest Tweets About Cats And Dogs This Week (Sept. 17-23)                                    1\n",
       "The Funniest Tweets From Parents This Week (Sept. 17-23)                                                 1\n",
       "Woman Who Called Cops On Black Bird-Watcher Loses Lawsuit Against Ex-Employer                            1\n",
       "Cleaner Was Dead In Belk Bathroom For 4 Days Before Body Found: Police                                   1\n",
       "Reporter Gets Adorable Surprise From Her Boyfriend While Live On TV                                      1\n",
       "Puerto Ricans Desperate For Water After Hurricane Fiona’s Rampage                                        1\n",
       "How A New Documentary Captures The Complexity Of Being A Child Of Immigrants                             1\n",
       "Biden At UN To Call Russian War An Affront To Body's Charter                                             1\n",
       "World Cup Captains Want To Wear Rainbow Armbands In Qatar                                                1\n",
       "Man Sets Himself On Fire In Apparent Protest Of Funeral For Japan's Abe                                  1\n",
       "Fiona Threatens To Become Category 4 Storm Headed To Bermuda                                             1\n",
       "Twitch Bans Gambling Sites After Streamer Scams Folks Out Of $200,000                                    1\n",
       "Virginia Thomas Agrees To Interview With Jan. 6 Panel                                                    1\n",
       "Russian Cosmonaut Valery Polyakov Who Broke Record With 437-Day Stay In Space Dies At 80                 1\n",
       "'Reboot' Is A Clever And Not Too Navel-Gazey Look Inside TV Reboots                                      1\n",
       "Maury Wills, Base-Stealing Shortstop For Dodgers, Dies At 89                                             1\n",
       "4 Russian-Controlled Ukrainian Regions Schedule Votes This Week To Join Russia                           1\n",
       "Fiona Barrels Toward Turks And Caicos Islands As Category 3 Hurricane                                    1\n",
       "Golden Globes Returning To NBC In January After Year Off-Air                                             1\n",
       "Biden Says U.S. Forces Would Defend Taiwan If China Invaded                                              1\n",
       "Hurricane Fiona Bears Down On Dominican Republic After Pounding Puerto Rico                              1\n",
       "One Dead After Plane Crashes At Reno Air Race                                                            1\n",
       "‘Beautiful And Sad At The Same Time’: Ukrainian Cultural Festival Takes On A Deeper Meaning This Year    1\n",
       "Family Of American Held In Afghanistan Says He Was Freed By Taliban In Prisoner Swap                     1\n",
       "Las Vegas Aces Win First WNBA Title, Chelsea Gray Named MVP                                              1\n",
       "World Leaders Pay Respects To Queen Elizabeth II                                                         1\n",
       "James Cameron Says He 'Clashed' With Studio Before 'Avatar' Release                                      1\n",
       "'French Spider-Man' Celebrates 60th Birthday With A Massive Skyscraper Climb                             1\n",
       "Name: count, dtype: int64"
      ]
     },
     "execution_count": 102,
     "metadata": {},
     "output_type": "execute_result"
    }
   ],
   "source": [
    "## Before\n",
    "df['headline'].head(30).value_counts()"
   ]
  },
  {
   "cell_type": "code",
   "execution_count": 103,
   "metadata": {},
   "outputs": [],
   "source": [
    "# Applr clean function\n",
    "df['headline'] = df['headline'].apply(clean_text)"
   ]
  },
  {
   "cell_type": "code",
   "execution_count": 104,
   "metadata": {},
   "outputs": [
    {
     "data": {
      "text/plain": [
       "headline\n",
       "Over Million Americans Roll Up Sleeves For OmicronTargeted COVID Boosters                             1\n",
       "American Airlines Flyer Charged Banned For Life After Punching Flight Attendant On Video              1\n",
       "Of The Funniest Tweets About Cats And Dogs This Week Sept                                             1\n",
       "The Funniest Tweets From Parents This Week Sept                                                       1\n",
       "Woman Who Called Cops On Black BirdWatcher Loses Lawsuit Against ExEmployer                           1\n",
       "Cleaner Was Dead In Belk Bathroom For Days Before Body Found Police                                   1\n",
       "Reporter Gets Adorable Surprise From Her Boyfriend While Live On TV                                   1\n",
       "Puerto Ricans Desperate For Water After Hurricane Fionas Rampage                                      1\n",
       "How A New Documentary Captures The Complexity Of Being A Child Of Immigrants                          1\n",
       "Biden At UN To Call Russian War An Affront To Bodys Charter                                           1\n",
       "World Cup Captains Want To Wear Rainbow Armbands In Qatar                                             1\n",
       "Man Sets Himself On Fire In Apparent Protest Of Funeral For Japans Abe                                1\n",
       "Fiona Threatens To Become Category Storm Headed To Bermuda                                            1\n",
       "Twitch Bans Gambling Sites After Streamer Scams Folks Out Of                                          1\n",
       "Virginia Thomas Agrees To Interview With Jan Panel                                                    1\n",
       "Russian Cosmonaut Valery Polyakov Who Broke Record With Day Stay In Space Dies At                     1\n",
       "Reboot Is A Clever And Not Too NavelGazey Look Inside TV Reboots                                      1\n",
       "Maury Wills BaseStealing Shortstop For Dodgers Dies At                                                1\n",
       "RussianControlled Ukrainian Regions Schedule Votes This Week To Join Russia                           1\n",
       "Fiona Barrels Toward Turks And Caicos Islands As Category Hurricane                                   1\n",
       "Golden Globes Returning To NBC In January After Year OffAir                                           1\n",
       "Biden Says US Forces Would Defend Taiwan If China Invaded                                             1\n",
       "Hurricane Fiona Bears Down On Dominican Republic After Pounding Puerto Rico                           1\n",
       "One Dead After Plane Crashes At Reno Air Race                                                         1\n",
       "Beautiful And Sad At The Same Time Ukrainian Cultural Festival Takes On A Deeper Meaning This Year    1\n",
       "Family Of American Held In Afghanistan Says He Was Freed By Taliban In Prisoner Swap                  1\n",
       "Las Vegas Aces Win First WNBA Title Chelsea Gray Named MVP                                            1\n",
       "World Leaders Pay Respects To Queen Elizabeth II                                                      1\n",
       "James Cameron Says He Clashed With Studio Before Avatar Release                                       1\n",
       "French SpiderMan Celebrates Birthday With A Massive Skyscraper Climb                                  1\n",
       "Name: count, dtype: int64"
      ]
     },
     "execution_count": 104,
     "metadata": {},
     "output_type": "execute_result"
    }
   ],
   "source": [
    "df['headline'].head(30).value_counts()"
   ]
  },
  {
   "cell_type": "code",
   "execution_count": 105,
   "metadata": {},
   "outputs": [
    {
     "data": {
      "text/plain": [
       "array(['OTHER', 'SPORTS', 'ENTERTAINMENT', 'POLITICS', 'WELLNESS',\n",
       "       'BUSINESS', 'STYLE & BEAUTY', 'FOOD & DRINK', 'QUEER VOICES',\n",
       "       'TRAVEL'], dtype=object)"
      ]
     },
     "execution_count": 105,
     "metadata": {},
     "output_type": "execute_result"
    }
   ],
   "source": [
    "df['category'].unique()"
   ]
  },
  {
   "cell_type": "code",
   "execution_count": 106,
   "metadata": {},
   "outputs": [
    {
     "data": {
      "text/plain": [
       "category\n",
       "OTHER             94350\n",
       "POLITICS          35467\n",
       "WELLNESS          17862\n",
       "ENTERTAINMENT     17317\n",
       "TRAVEL             9871\n",
       "STYLE & BEAUTY     9313\n",
       "QUEER VOICES       6335\n",
       "FOOD & DRINK       6330\n",
       "BUSINESS           5974\n",
       "SPORTS             5074\n",
       "Name: count, dtype: int64"
      ]
     },
     "execution_count": 106,
     "metadata": {},
     "output_type": "execute_result"
    }
   ],
   "source": [
    "df['category'].value_counts()"
   ]
  },
  {
   "cell_type": "code",
   "execution_count": 107,
   "metadata": {},
   "outputs": [],
   "source": [
    "df_other=df[df['category']=='OTHER'].sample(n=10000,random_state=42)\n",
    "df_politics=df[df['category']=='POLITICS'].sample(n=10000,random_state=42)\n",
    "df_wellness=df[df['category']=='WELLNESS'].sample(n=10000,random_state=42)\n",
    "df_entertainment=df[df['category']=='ENTERTAINMENT'].sample(n=10000,random_state=42)\n"
   ]
  },
  {
   "cell_type": "code",
   "execution_count": 108,
   "metadata": {},
   "outputs": [
    {
     "data": {
      "text/plain": [
       "(42897, 2)"
      ]
     },
     "execution_count": 108,
     "metadata": {},
     "output_type": "execute_result"
    }
   ],
   "source": [
    "categories_to_drop = ['OTHER', 'POLITICS', 'WELLNESS', 'ENTERTAINMENT']\n",
    "\n",
    "indexes_to_drop = df[df['category'].isin(categories_to_drop)].index\n",
    "\n",
    "df.drop(indexes_to_drop,inplace=True,axis=0)\n",
    "\n",
    "df.shape"
   ]
  },
  {
   "cell_type": "code",
   "execution_count": 109,
   "metadata": {},
   "outputs": [
    {
     "data": {
      "text/plain": [
       "(82897, 2)"
      ]
     },
     "execution_count": 109,
     "metadata": {},
     "output_type": "execute_result"
    }
   ],
   "source": [
    "df_new= pd.concat([df, df_other, df_politics, df_wellness, df_entertainment])\n",
    "\n",
    "\n",
    "df_new.shape"
   ]
  },
  {
   "cell_type": "code",
   "execution_count": 110,
   "metadata": {},
   "outputs": [
    {
     "data": {
      "text/plain": [
       "category\n",
       "WELLNESS          10000\n",
       "ENTERTAINMENT     10000\n",
       "POLITICS          10000\n",
       "OTHER             10000\n",
       "TRAVEL             9871\n",
       "STYLE & BEAUTY     9313\n",
       "QUEER VOICES       6335\n",
       "FOOD & DRINK       6330\n",
       "BUSINESS           5974\n",
       "SPORTS             5074\n",
       "Name: count, dtype: int64"
      ]
     },
     "execution_count": 110,
     "metadata": {},
     "output_type": "execute_result"
    }
   ],
   "source": [
    "df_new['category'].value_counts()\n"
   ]
  },
  {
   "cell_type": "markdown",
   "metadata": {},
   "source": [
    "##### `Split Data`"
   ]
  },
  {
   "cell_type": "code",
   "execution_count": 111,
   "metadata": {},
   "outputs": [],
   "source": [
    "X=df_new['headline']\n",
    "y=df_new['category']"
   ]
  },
  {
   "cell_type": "code",
   "execution_count": 112,
   "metadata": {},
   "outputs": [],
   "source": [
    "from sklearn.preprocessing import LabelEncoder\n",
    "\n",
    "label_encoder = LabelEncoder()\n",
    "y= label_encoder.fit_transform(y)"
   ]
  },
  {
   "cell_type": "code",
   "execution_count": 113,
   "metadata": {},
   "outputs": [],
   "source": [
    "labels=label_encoder.classes_"
   ]
  },
  {
   "cell_type": "code",
   "execution_count": 114,
   "metadata": {},
   "outputs": [
    {
     "name": "stdout",
     "output_type": "stream",
     "text": [
      "Label Mapping: {'BUSINESS': 0, 'ENTERTAINMENT': 1, 'FOOD & DRINK': 2, 'OTHER': 3, 'POLITICS': 4, 'QUEER VOICES': 5, 'SPORTS': 6, 'STYLE & BEAUTY': 7, 'TRAVEL': 8, 'WELLNESS': 9}\n"
     ]
    }
   ],
   "source": [
    "# Display the mapping\n",
    "label_mapping = {label: index for index, label in enumerate(labels)}\n",
    "print(\"Label Mapping:\", label_mapping)"
   ]
  },
  {
   "cell_type": "code",
   "execution_count": 115,
   "metadata": {},
   "outputs": [],
   "source": [
    "from sklearn.model_selection import train_test_split\n",
    "\n",
    "# Split the data into training (80%) and testing (20%)\n",
    "X_train, X_test, y_train, y_test = train_test_split(X, y, test_size=0.2, stratify=y, random_state=42)\n",
    "\n",
    "\n",
    "train_df = pd.DataFrame(X_train)\n",
    "train_df['category'] = y_train\n",
    "\n",
    "test_df = pd.DataFrame(X_test)\n",
    "test_df['category'] = y_test\n",
    "\n"
   ]
  },
  {
   "cell_type": "code",
   "execution_count": 116,
   "metadata": {},
   "outputs": [],
   "source": [
    "# Save the DataFrames as CSV files\n",
    "train_df.to_csv('train_data.csv', index=False)\n",
    "test_df.to_csv('test_data.csv', index=False)"
   ]
  },
  {
   "cell_type": "code",
   "execution_count": 117,
   "metadata": {},
   "outputs": [
    {
     "name": "stdout",
     "output_type": "stream",
     "text": [
      "x_train shape : (66317,)\n",
      "y_train shape : (66317,)\n",
      "********************\n",
      "x_test shape : (16580,)\n",
      "y_test shape : (16580,)\n"
     ]
    }
   ],
   "source": [
    "## Check shapes\n",
    "\n",
    "print('x_train shape :',X_train.shape)\n",
    "print('y_train shape :',y_train.shape)\n",
    "print('*'*20)\n",
    "\n",
    "print('x_test shape :',X_test.shape)\n",
    "print('y_test shape :',y_test.shape)"
   ]
  },
  {
   "cell_type": "code",
   "execution_count": 118,
   "metadata": {},
   "outputs": [
    {
     "name": "stdout",
     "output_type": "stream",
     "text": [
      "Num of duplicates after splitting for Train Data : 156\n",
      "Num of duplicates after splitting for Test Data : 17\n"
     ]
    }
   ],
   "source": [
    "### Check Duplicates after split \n",
    "print('Num of duplicates after splitting for Train Data :', train_df.duplicated().sum())\n",
    "\n",
    "\n",
    "print('Num of duplicates after splitting for Test Data :', test_df.duplicated().sum())\n",
    "\n"
   ]
  },
  {
   "cell_type": "code",
   "execution_count": 119,
   "metadata": {},
   "outputs": [],
   "source": [
    "## Drop This Duplicates\n",
    "train_df.drop_duplicates(inplace=True)\n",
    "test_df.drop_duplicates(inplace=True)"
   ]
  },
  {
   "cell_type": "code",
   "execution_count": 120,
   "metadata": {},
   "outputs": [
    {
     "data": {
      "text/plain": [
       "197576              Our Most Fearless Tweet Finalist PHOTOS\n",
       "203877                                         Hunger Hurts\n",
       "25400     Perfect Tweets About Bachelor In Paradise Seas...\n",
       "142270                        Nuh Linga Get Down to Jamaica\n",
       "153990    Airplane Boneyards Look Even Cooler In Instagr...\n",
       "                                ...                        \n",
       "120446    Osteochondral Ankle Surgery Is This What ShinS...\n",
       "131153                         Americas Most Damaged Brands\n",
       "191838    Grief and Loss Tips on How We Can Help Those A...\n",
       "83359     Beyonce Taylor Swift And Other Celebrities Sen...\n",
       "111909       Hillary President The Elephant in the RoomBill\n",
       "Name: headline, Length: 66317, dtype: object"
      ]
     },
     "execution_count": 120,
     "metadata": {},
     "output_type": "execute_result"
    }
   ],
   "source": [
    "X_train"
   ]
  },
  {
   "cell_type": "code",
   "execution_count": null,
   "metadata": {},
   "outputs": [],
   "source": []
  }
 ],
 "metadata": {
  "kernelspec": {
   "display_name": "Python 3",
   "language": "python",
   "name": "python3"
  },
  "language_info": {
   "codemirror_mode": {
    "name": "ipython",
    "version": 3
   },
   "file_extension": ".py",
   "mimetype": "text/x-python",
   "name": "python",
   "nbconvert_exporter": "python",
   "pygments_lexer": "ipython3",
   "version": "3.12.3"
  }
 },
 "nbformat": 4,
 "nbformat_minor": 2
}
